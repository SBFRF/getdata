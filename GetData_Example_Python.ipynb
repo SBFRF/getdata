{
 "cells": [
  {
   "cell_type": "code",
   "execution_count": 7,
   "metadata": {
    "collapsed": false
   },
   "outputs": [],
   "source": [
    "import os, sys\n",
    "import datetime as DT\n",
    "sys.path.append('C:\\Users\\spike\\Documents\\Code_Repositories\\CMTB')  # folder where getFRFdata is located\n",
    "from GetData import GetData"
   ]
  },
  {
   "cell_type": "code",
   "execution_count": 19,
   "metadata": {
    "collapsed": false
   },
   "outputs": [],
   "source": [
    "startTime = DT.datetime(2012, 10, 2, 15,30)  # creating a start time (inclusive) datetime object\n",
    "endTime = DT.datetime(2012, 10, 3, 13, 0)  # creating an end time (not included) datetime object\n",
    "gd = GetData(startTime, endTime)  # initializing an instance (gd) of get data with the included dates"
   ]
  },
  {
   "cell_type": "code",
   "execution_count": 11,
   "metadata": {
    "collapsed": false
   },
   "outputs": [
    {
     "name": "stdout",
     "output_type": "stream",
     "text": [
      "Data Gathered from CHL thredds Server\n",
      "['waveDm', 'wavedirbin', 'peakf', 'lat', 'waveDp', 'dWED', 'name', 'Hs', 'lon', 'qcFlagE', 'qcFlagD', 'depth', 'time', 'wavefreqbin']\n"
     ]
    },
    {
     "data": {
      "text/plain": [
       "'FRF 17m Datawell Waverider Buoy'"
      ]
     },
     "execution_count": 11,
     "metadata": {},
     "output_type": "execute_result"
    }
   ],
   "source": [
    "# Getting Wave Data first \n",
    "waveData = gd.getwavespec('waverider-17m')\n",
    "print waveData.keys()\n",
    "waveData['name']"
   ]
  },
  {
   "cell_type": "code",
   "execution_count": 15,
   "metadata": {
    "collapsed": false
   },
   "outputs": [
    {
     "name": "stdout",
     "output_type": "stream",
     "text": [
      "Data Gathered from CHL thredds Server\n",
      "['winddir', 'gaugeht', 'maxspeed', 'stdspeed', 'name', 'qcflagS', 'windgust', 'lon', 'vecspeed', 'windspeed_corrected', 'qcflagD', 'windspeed', 'sustspeed', 'time', 'lat', 'minspeed']\n"
     ]
    },
    {
     "data": {
      "text/plain": [
       "array([datetime.datetime(2015, 10, 2, 15, 30),\n",
       "       datetime.datetime(2015, 10, 2, 15, 40),\n",
       "       datetime.datetime(2015, 10, 2, 15, 50),\n",
       "       datetime.datetime(2015, 10, 2, 16, 0),\n",
       "       datetime.datetime(2015, 10, 2, 16, 10),\n",
       "       datetime.datetime(2015, 10, 2, 16, 20),\n",
       "       datetime.datetime(2015, 10, 2, 16, 30),\n",
       "       datetime.datetime(2015, 10, 2, 16, 40),\n",
       "       datetime.datetime(2015, 10, 2, 16, 50),\n",
       "       datetime.datetime(2015, 10, 2, 17, 0)], dtype=object)"
      ]
     },
     "execution_count": 15,
     "metadata": {},
     "output_type": "execute_result"
    }
   ],
   "source": [
    "windData = gd.getwind()  # getting wind data, uses default gauge of 'derived' product\n",
    "print windData.keys()    # displaying the wind data key'd variables in the dictionary windData\n",
    "windData['time'][:10]    # printing time stamp for data"
   ]
  },
  {
   "cell_type": "code",
   "execution_count": 17,
   "metadata": {
    "collapsed": true
   },
   "outputs": [],
   "source": []
  },
  {
   "cell_type": "code",
   "execution_count": 20,
   "metadata": {
    "collapsed": false
   },
   "outputs": [
    {
     "name": "stdout",
     "output_type": "stream",
     "text": [
      "Data Gathered from CHL thredds Server\n",
      "['name', 'WL', 'lon', 'predictedWL', 'time', 'lat']\n"
     ]
    }
   ],
   "source": [
    "WLdata = gd.getWL()  # getting WL data - no gauge number needed \n",
    "print WLdata.keys()  # printing keys associated with data in python dictionary"
   ]
  },
  {
   "cell_type": "code",
   "execution_count": 18,
   "metadata": {
    "collapsed": false
   },
   "outputs": [
    {
     "name": "stdout",
     "output_type": "stream",
     "text": [
      "[datetime.datetime(1981, 1, 1, 5, 0, 0, 13)\n",
      " datetime.datetime(1981, 1, 1, 6, 0)\n",
      " datetime.datetime(1981, 1, 1, 6, 59, 59, 999987) ...,\n",
      " datetime.datetime(2013, 12, 31, 23, 41, 59, 999984)\n",
      " datetime.datetime(2013, 12, 31, 23, 48, 0, 2)\n",
      " datetime.datetime(2013, 12, 31, 23, 54, 0, 22)]\n"
     ]
    }
   ],
   "source": [
    "## Example of why time's need to be rounded\n",
    "# See 1981-01-01 7:59:59.999987  Should be 8:00:00 \n",
    "\n",
    "import netCDF4 as nc\n",
    "time = nc.Dataset('http://chlthredds.erdc.dren.mil/thredds/dodsC/frf/oceanography/waterlevel/11/11.ncml')['time']\n",
    "t = nc.num2date(time[:],time.units)\n",
    "print t  # example of why"
   ]
  },
  {
   "cell_type": "code",
   "execution_count": null,
   "metadata": {
    "collapsed": true
   },
   "outputs": [],
   "source": []
  },
  {
   "cell_type": "code",
   "execution_count": null,
   "metadata": {
    "collapsed": true
   },
   "outputs": [],
   "source": []
  }
 ],
 "metadata": {
  "kernelspec": {
   "display_name": "Python 2",
   "language": "python",
   "name": "python2"
  },
  "language_info": {
   "codemirror_mode": {
    "name": "ipython",
    "version": 2
   },
   "file_extension": ".py",
   "mimetype": "text/x-python",
   "name": "python",
   "nbconvert_exporter": "python",
   "pygments_lexer": "ipython2",
   "version": "2.7.11"
  }
 },
 "nbformat": 4,
 "nbformat_minor": 0
}
