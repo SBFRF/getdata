{
 "cells": [
  {
   "cell_type": "markdown",
   "metadata": {},
   "source": [
    "# Example to interact with thredds on python\n",
    "for matlab please see howto netcdf on github"
   ]
  },
  {
   "cell_type": "code",
   "execution_count": 81,
   "metadata": {
    "collapsed": false
   },
   "outputs": [],
   "source": [
    "## importing libraries \n",
    "import netCDF4 as nc\n",
    "from matplotlib import pyplot as plt \n",
    "import numpy as np\n",
    "import datetime as DT\n",
    "# show plots inline for jupyter notebook\n",
    "%matplotlib inline "
   ]
  },
  {
   "cell_type": "markdown",
   "metadata": {},
   "source": [
    "# Load file (meta data only -  not data)\n",
    "(ncdisp in matlab)"
   ]
  },
  {
   "cell_type": "code",
   "execution_count": 82,
   "metadata": {
    "collapsed": true
   },
   "outputs": [],
   "source": [
    "# oregon inlet waverider wave buoy \n",
    "url = 'https://chlthredds.erdc.dren.mil/thredds/dodsC/frf/oceanography/waves/waverider-26m/waverider-26m.ncml'\n",
    "ncfile = nc.Dataset(url)  # file is loaded as ncfile "
   ]
  },
  {
   "cell_type": "markdown",
   "metadata": {},
   "source": [
    "#look at Global MetaData"
   ]
  },
  {
   "cell_type": "code",
   "execution_count": 83,
   "metadata": {
    "collapsed": false
   },
   "outputs": [
    {
     "name": "stdout",
     "output_type": "stream",
     "text": [
      "<type 'netCDF4._netCDF4.Dataset'>\n",
      "root group (NETCDF3_CLASSIC data model, file format DAP2):\n",
      "    featureType: timeSeries\n",
      "    title: FRF 26m Datawell Waverider Buoy\n",
      "    summary: USACE/COAB collected directional wave data with a Datawell Directional Waverider (Mk III) approximately \n",
      " 10 miles (16.1 km) offshore of Duck (FRF), NC. The nominal depth for each deployment was approximately \n",
      " 26m NAVD88. Directional spectra Fourier coefficients are computed onboard the buoy and transmitted via \n",
      " Iridium satellite link at half-hour intervals, raw data record lengths are 30 minutes. The USACE funds this\n",
      " data collection through the Coastal Data Information Program (CDIP), UCSD San Diego, CA.  The buoy computed \n",
      " Directional Fourier coefficients are provided but have been rotated from magnetic north to clockwise from \n",
      " true north.  Two dimensional (2D) frequency-direction spectra are computed using an Maximum Likelihood Estimator\n",
      " (MLE) method.  See - Oltman-Shay, J., Guza, R.T., 1984. A data-adaptive ocean wave directional-spectrum \n",
      " estimator for pitch and roll type measurements. Journal of Physical Oceanography 14, 1800x131810. \n",
      " This buoy has other identifiers; 44100 at the National Data Buoy Center (NDBC), 430 at CDIP and the FRF.\n",
      "\n",
      "    history: 2008-05-22:dataset created\n",
      "    source: In situ observations from FRF-ocean_waves_waverider-26m_YYYYMM.mat\n",
      "    sourceUrl: (local files)\n",
      "    standard_name_vocabulary: CFv25\n",
      "    Metadata_Conventions: Unidata Dataset Discovery v1.0, CF-1.6\n",
      "    metadata_link: N/A\n",
      "    Conventions: CF-1.6\n",
      "    creator_name: USACE/CHL/COAB\n",
      "    creator_url: http://www.frf.usace.army.mil\n",
      "    creator_email: frfwebmaster@usace.army.mil\n",
      "    license: These data may be redistributed and used without restriction. Data are intended for scholarly use by the research community, with the express agreement that users will properly acknowledge the USACE Field Research Facility and the supporting investigator(s). Use or reproduction of these data for commercial purposes is prohibited without prior written permission.\n",
      "    keywords_vocabulary: Global Change Master Directory (GCMD) Earth Science Keywords; CF Standard Name Table (v23, 23 March 2013)\n",
      "    keywords: Oceans > Ocean Waves > Wave Frequency, Oceans > Ocean Waves > Wave Height, Oceans > Ocean Waves > Wave Period, Oceans > Ocean Waves > Wave Spectra, Oceans > Ocean Waves > Wave Direction, DOD > DOD/USARMY/USACE/CHL/FRF > Field Research Facility, Coastal And Hydraulics Laboratory,U. S. Army Corps Of Engineers, U.S. Army, U. S. Department Of Defense, sea_surface_wave_variance_spectral_density, sea_surface_wave_significant_height, sea_surface_wave_from_direction,  sea_surface_wave_directional_variance_spectral_density\"\n",
      "    pprocessing: realtime\n",
      "    organization: USACE/CHL/COAB\n",
      "    publisher_url: http://www.frf.usace.army.mil\n",
      "    infoUrl: http://frf.usace.army.mil\n",
      "    publisher_email: frfwebmaster@usace.army.mil\n",
      "    publisher_name: USACE/CHL/COAB\n",
      "    format_version: v1.0\n",
      "    institution: USACE/CHL/COAB\n",
      "    contact: USACE/CHL/COAB\n",
      "    contact_info: USACE/CHL/COAB\n",
      "    contact_role: Owner\n",
      "    contributor_name: USACE/CHL/COAB\n",
      "    contributor_role: USACE/CHL/COAB\n",
      "    naming_authority: FRF\n",
      "    origin: USACE/CHL/COAB\n",
      "    date_created: 2017-04-01\n",
      "    date_issued: 2017-04-01\n",
      "    acknowledgement: Data are provided by the Field Research Facility; Coastal Observations and Analysis Branch; US Army Corps of Engineers, Duck, North Carolina.\n",
      "    project: USACE/COAB observations\n",
      "    id: FRF-ocean_waves_waverider-26m\n",
      "    pprocessing_level: L1\n",
      "    geospatial_vertical_units: m\n",
      "    geospatial_vertical_resolution: 0.0\n",
      "    geospatial_vertical_min: 0.0\n",
      "    geospatial_vertical_max: 0.0\n",
      "    geospatial_vertical_origin: sea surface\n",
      "    geospatial_lat_min: 36.25768333\n",
      "    geospatial_lat_max: 36.25768333\n",
      "    geospatial_lat_units: degrees_north\n",
      "    geospatial_lon_min: -75.59131666\n",
      "    geospatial_lon_max: -75.59131666\n",
      "    geospatial_lon_units: degrees_east\n",
      "    geospatial_vertical_positive: up\n",
      "    time_coverage_start: 2017-04-01T00:08:00\n",
      "    time_coverage_end: 2017-04-01T04:38:00\n",
      "    deployment_start: 2008-05-23T07:55:00Z\n",
      "    platform: Datawell Waverider buoy\n",
      "    instrument: Datawell Waverider buoy (Mk III)\n",
      "    cross_shore_angle_units: degrees\n",
      "    cross_shore_angle_description: cross shore angle at the USACE FRF site in DUCK, NC, clockwise from true north\n",
      "    cross_shore_angle: 71.8\n",
      "    DODS.strlen: 31\n",
      "    DODS.dimName: station_name_length\n",
      "    dimensions(sizes): depth(1), maxStrlen64(64), time(127315), waveDirectionBins(72), waveFrequency(62)\n",
      "    variables(dimensions): |S1 \u001b[4mstation_name\u001b[0m(maxStrlen64), float32 \u001b[4mwaveFrequency\u001b[0m(waveFrequency), float32 \u001b[4mwaveDirectionBins\u001b[0m(waveDirectionBins), float32 \u001b[4mdepth\u001b[0m(depth), float64 \u001b[4mlat\u001b[0m(), float64 \u001b[4mlon\u001b[0m(), float32 \u001b[4mwaveHs\u001b[0m(time), float32 \u001b[4mwavePeakFrequency\u001b[0m(time), float32 \u001b[4mwaveTm2\u001b[0m(time), float32 \u001b[4mwavePeakDirectionPeakFrequency\u001b[0m(time), float32 \u001b[4mwaveMeanDirection\u001b[0m(time), float32 \u001b[4mwaveMeanDirectionPeakFrequency\u001b[0m(time), float64 \u001b[4mtime\u001b[0m(time), int8 \u001b[4mqcFlagE\u001b[0m(time), int8 \u001b[4mqcFlagD\u001b[0m(time), float32 \u001b[4mdirectionalPeakSpread\u001b[0m(time), float32 \u001b[4mspectralWidthParameter\u001b[0m(time), int8 \u001b[4mwaveDirectionEstimator\u001b[0m(time), float32 \u001b[4mwaveEnergyDensity\u001b[0m(time,waveFrequency), float32 \u001b[4mdirectionalWaveEnergyDensity\u001b[0m(time,waveFrequency,waveDirectionBins), float32 \u001b[4mwaveA1Value\u001b[0m(time,waveFrequency), float32 \u001b[4mwaveB1Value\u001b[0m(time,waveFrequency), float32 \u001b[4mwaveA2Value\u001b[0m(time,waveFrequency), float32 \u001b[4mwaveB2Value\u001b[0m(time,waveFrequency)\n",
      "    groups: \n",
      "\n"
     ]
    }
   ],
   "source": [
    "print ncfile"
   ]
  },
  {
   "cell_type": "markdown",
   "metadata": {},
   "source": [
    "# Attributes are not only there for looks"
   ]
  },
  {
   "cell_type": "code",
   "execution_count": 84,
   "metadata": {
    "collapsed": false
   },
   "outputs": [
    {
     "name": "stdout",
     "output_type": "stream",
     "text": [
      "71.8\n"
     ]
    }
   ],
   "source": [
    "print ncfile.cross_shore_angle"
   ]
  },
  {
   "cell_type": "markdown",
   "metadata": {},
   "source": [
    "# Look at Varibles in netCDF file"
   ]
  },
  {
   "cell_type": "code",
   "execution_count": 85,
   "metadata": {
    "collapsed": false
   },
   "outputs": [
    {
     "name": "stdout",
     "output_type": "stream",
     "text": [
      "These are the variables in this file\n",
      "\n",
      "station_name\n",
      "waveFrequency\n",
      "waveDirectionBins\n",
      "depth\n",
      "lat\n",
      "lon\n",
      "waveHs\n",
      "wavePeakFrequency\n",
      "waveTm2\n",
      "wavePeakDirectionPeakFrequency\n",
      "waveMeanDirection\n",
      "waveMeanDirectionPeakFrequency\n",
      "time\n",
      "qcFlagE\n",
      "qcFlagD\n",
      "directionalPeakSpread\n",
      "spectralWidthParameter\n",
      "waveDirectionEstimator\n",
      "waveEnergyDensity\n",
      "directionalWaveEnergyDensity\n",
      "waveA1Value\n",
      "waveB1Value\n",
      "waveA2Value\n",
      "waveB2Value\n"
     ]
    }
   ],
   "source": [
    "print 'These are the variables in this file\\n'\n",
    "for var in ncfile.variables.keys():\n",
    "    print var"
   ]
  },
  {
   "cell_type": "markdown",
   "metadata": {},
   "source": [
    "#  go Get time (only time)"
   ]
  },
  {
   "cell_type": "code",
   "execution_count": 96,
   "metadata": {
    "collapsed": false
   },
   "outputs": [
    {
     "name": "stdout",
     "output_type": "stream",
     "text": [
      "This is an example of variable with attributes\n",
      "\n",
      "<type 'netCDF4._netCDF4.Variable'>\n",
      "float32 directionalWaveEnergyDensity(time, waveFrequency, waveDirectionBins)\n",
      "    _FillValue: 7.39774e+31\n",
      "    units: m2 s deg-1\n",
      "    standard_name: sea_surface_wave_directional_variance_spectral_density\n",
      "    long_name: 2D Wave Energy Density Spectrum\n",
      "    short_name: Energy Density\n",
      "    _ChunkSizes: [ 1 62 72]\n",
      "unlimited dimensions: \n",
      "current shape = (127315, 62, 72)\n",
      "filling off\n",
      "\n",
      "This is the last record as epoch time 1496291880.000002\n",
      "This is  the last record as python datetime object 2017-06-01 04:38:00.000002\n",
      "\n",
      "\n"
     ]
    }
   ],
   "source": [
    "print 'This is an example of variable with attributes\\n'\n",
    "print ncfile['directionalWaveEnergyDensity']\n",
    "alltime = ncfile['time'][:] # to get data use index or [:]\n",
    "print 'This is the last record as epoch time %f' %alltime[-1]\n",
    "alltimeDateTime = nc.num2date(alltime, ncfile['time'].units)  # convert time to useful \n",
    "print 'This is  the last record as python datetime object %s' %alltimeDateTime[-1]\n",
    "print '\\n'\n"
   ]
  },
  {
   "cell_type": "markdown",
   "metadata": {},
   "source": [
    "# Go get all wave Heights associated with all times using (:)"
   ]
  },
  {
   "cell_type": "code",
   "execution_count": 87,
   "metadata": {
    "collapsed": true
   },
   "outputs": [],
   "source": [
    "allHs = ncfile['waveHs'][:]  # all wave heights to match time 'alltime'"
   ]
  },
  {
   "cell_type": "code",
   "execution_count": 90,
   "metadata": {
    "collapsed": false
   },
   "outputs": [
    {
     "data": {
      "text/plain": [
       "(0, 5)"
      ]
     },
     "execution_count": 90,
     "metadata": {},
     "output_type": "execute_result"
    },
    {
     "data": {
      "image/png": "[encoded data removed]",
      "text/plain": [
       "<matplotlib.figure.Figure at 0xe92a710>"
      ]
     },
     "metadata": {},
     "output_type": "display_data"
    }
   ],
   "source": [
    "plt.plot(alltimeDateTime, allHs, 'g.')\n",
    "plt.title('All Wave Height', fontsize=26)\n",
    "plt.xlabel('Time (days)', fontsize=20)\n",
    "plt.ylabel('Wave Height $[m]$', fontsize=20)\n",
    "plt.tight_layout()\n",
    "plt.ylim([0, 5])\n"
   ]
  },
  {
   "cell_type": "markdown",
   "metadata": {},
   "source": [
    "# Now Lets get times of interest "
   ]
  },
  {
   "cell_type": "code",
   "execution_count": 91,
   "metadata": {
    "collapsed": true
   },
   "outputs": [],
   "source": [
    "dateIminterestedIn = DT.datetime(2017, 5,7)   # this is the date i'm interested in"
   ]
  },
  {
   "cell_type": "code",
   "execution_count": 92,
   "metadata": {
    "collapsed": false
   },
   "outputs": [
    {
     "name": "stdout",
     "output_type": "stream",
     "text": [
      "There are 10 records of interest\n"
     ]
    }
   ],
   "source": [
    "tt = (alltimeDateTime > dateIminterestedIn)  # produces true/false array \n",
    "print 'There are %d records of interest' %tt.sum()  # Trues count as 1"
   ]
  },
  {
   "cell_type": "markdown",
   "metadata": {},
   "source": [
    "# now segment those for plot "
   ]
  },
  {
   "cell_type": "code",
   "execution_count": 93,
   "metadata": {
    "collapsed": false
   },
   "outputs": [],
   "source": [
    "Hs_seg = ncfile['waveHs'][tt]  # get those records for interest\n",
    "t_seg = nc.num2date(ncfile['time'][tt], ncfile['time'].units)"
   ]
  },
  {
   "cell_type": "code",
   "execution_count": 94,
   "metadata": {
    "collapsed": false
   },
   "outputs": [
    {
     "data": {
      "text/plain": [
       "<matplotlib.text.Text at 0x115d9d68>"
      ]
     },
     "execution_count": 94,
     "metadata": {},
     "output_type": "execute_result"
    },
    {
     "data": {
      "image/png": "[encoded data removed]",
      "text/plain": [
       "<matplotlib.figure.Figure at 0x1069fa58>"
      ]
     },
     "metadata": {},
     "output_type": "display_data"
    }
   ],
   "source": [
    "plt.figure()\n",
    "plt.plot(t_seg, Hs_seg, 'g.')\n",
    "plt.title('Only Recent Data ', fontsize=26)\n",
    "plt.ylabel('$H_s [m]$', fontsize=20)\n",
    "plt.xlabel('Time', fontsize=20)"
   ]
  },
  {
   "cell_type": "code",
   "execution_count": null,
   "metadata": {
    "collapsed": true
   },
   "outputs": [],
   "source": []
  }
 ],
 "metadata": {
  "kernelspec": {
   "display_name": "Python 2",
   "language": "python",
   "name": "python2"
  },
  "language_info": {
   "codemirror_mode": {
    "name": "ipython",
    "version": 2
   },
   "file_extension": ".py",
   "mimetype": "text/x-python",
   "name": "python",
   "nbconvert_exporter": "python",
   "pygments_lexer": "ipython2",
   "version": "2.7.11"
  }
 },
 "nbformat": 4,
 "nbformat_minor": 0
}
